{
 "cells": [
  {
   "cell_type": "markdown",
   "metadata": {},
   "source": [
    "## Implementación de condiciones de borde no homogéneas - Método SOR\n",
    "\n",
    "MOOC: Transferencia de Calor y Masa Computacional\n",
    "\n",
    "Módulo 5 - Clase 4\n",
    "\n",
    "Autora: Catalina Pino Muñoz \n",
    "\n",
    "Editor: Felipe Huerta"
   ]
  },
  {
   "cell_type": "markdown",
   "metadata": {},
   "source": [
    "Hola a todos y todas. \n",
    "\n",
    "En esta clase, implementaremos el método sobra-relajación sucesiva (SOR) en Python para resolver un problema a los valores de contorno lineal en dos dimensiones con condiciones de borde no uniformes en el espacio.\n",
    "\n",
    "Primero describiremos el sistema físico de interés y plantearemos el sistema de ecuaciones diferenciales parciales y sus condiciones borde.\n",
    "\n",
    "Luego, discretizaremos el sistema de ecuaciones y obtendremos la solución de este problema matemático por medio del método SOR. \n",
    "\n",
    "Finalmente graficaremos el perfil en el espacio para nuestra variable de interés."
   ]
  },
  {
   "cell_type": "markdown",
   "metadata": {},
   "source": [
    "### 1. Descripción del sistema físico - Difusión en dos dimensiones \n",
    "\n",
    "La figuras muestran un receptáculo cuadrado en el cual difunde una especie A en una mezcla binaria (A + B). \n",
    "En el receptáculo existe una placa solida delgada que contiene un aromatizante (especie A) en el borde inferior. El receptáculo tiene ancho $L_x$ y alto $L_y$. Estudiaremos tres casos:\n",
    "     \n",
    "- Caso 1. Inicialmente la placa aromática tiene ancho $L_x$.\n",
    "- Caso 2. Luego de un tiempo en el que la placa aromática es consumida solo alcanza un ancho $L_x/3$. \n",
    "- Caso 3. La tapa del receptáculo (borde superior) esta semi abierta para permitir la entrada de un flujo constante de aroma hacia dentro del receptáculo.  \n",
    "\n",
    "Otros supuestos y consideraciones del problema son:\n",
    "\n",
    "- Mezcla binaria de A y B, donde B es un inerte que no reacciona.\n",
    "- Existe equilibrio solido-gas entre la placa sólida de aromatizante y la concentración de aroma ($c_A^\\star$) en el medio gaseoso en contacto con la placa. \n",
    "- Las paredes del receptáculo son impermeables.\n",
    "- Consideramos un termino de fuente negativo (consumo) de aroma, el cual es homogéneo en el interior del dominio cuadrado, $R_A = -Sc_A$.\n",
    "\n",
    "#### Conservación de masa - Perfil de concentración en estado estacionario\n",
    "La ecuación diferencial parcial (EDP) que describe el perfil especial de concentración de la especie A en dos dimensiones y en estado estacionario sujeto a una termino de fuente negativo homogéneo es:\n",
    "\n",
    "$$D_{AB}\\left(\\frac{\\partial^2 c_A}{\\partial x^2} + \\frac{\\partial^2 c_A}{\\partial y^2}\\right) = S c_A$$\n",
    "\n",
    "Sujeto a cuatro condiciones de borde (CB), una en cada pared del receptáculo, para cada caso.\n",
    "\n",
    "<img src=\"./Fig_cases.png\" alt=\"Alternative text\" \n",
    "     align=\"center\"\n",
    "     width=\"1000\"/>\n",
    "\n",
    "#### Resumen de condiciones de borde\n",
    "\n",
    "- Caso 1. Placa aromática de ancho $L_x$ en borde inferior\n",
    "\n",
    "CB1: borde inferior, $ c_A|_{x,y=0} = c_A^\\star $ \n",
    "\n",
    "CB2: borde derecho, $\\frac{\\partial c_A}{d x}|_{x=L,y} = 0$\n",
    "\n",
    "CB3: borde superior, $\\frac{\\partial c_A}{d y}|_{x,y=L} = 0$\n",
    "\n",
    "CB4: borde izquierdo, $\\frac{\\partial c_A}{d x}|_{x=0,y} = 0$\n",
    "\n",
    "- Caso 2. Placa aromática de ancho $L_x/3$ en el borde inferior. \n",
    "\n",
    "CB1: borde inferior, $ c_A|_{0\\leq x\\leq L_x/3,y=0} = c_A^\\star \\quad$ and $\\quad\\frac{\\partial c_A}{d y}|_{L_x/3<x\\leq L_x,y=0} = 0$\n",
    "\n",
    "CB2: borde derecho, $\\frac{\\partial c_A}{d x}|_{x=L,y} = 0$\n",
    "\n",
    "CB3: borde superior, $\\frac{\\partial c_A}{d y}|_{x,y=L} = 0$\n",
    "\n",
    "CB4: borde izquierdo, $\\frac{\\partial c_A}{d x}|_{x=0,y} = 0$\n",
    "\n",
    "- Caso 3. Placa aromática de ancho $L_x/3$ en el borde inferior y flujo entrante constate en borde superior ($2L_x/3<x\\leq L_x$).\n",
    "\n",
    "CB1: borde inferior, $ c_A|_{0\\leq x\\leq L_x/3,y=0} = c_A^\\star \\quad$ and $\\quad\\frac{\\partial c_A}{d y}|_{L_x/3<x\\leq L_x,y=0} = 0$\n",
    "\n",
    "CB2: borde derecho, $\\frac{\\partial c_A}{d x}|_{x=L,y} = 0$\n",
    "\n",
    "CB3: borde superior, $\\frac{\\partial c_A}{d y}|_{0\\leq x\\leq 2 L_x/3,y=L} = 0 \\quad$ and $\\quad-D_{AB}\\frac{\\partial c_A}{d y}|_{2 L_x/3 < x\\leq L_x,y=L} = -F^\\star $\n",
    "\n",
    "CB4: borde izquierdo, $\\frac{\\partial c_A}{d x}|_{x=0,y} = 0$\n",
    "\n",
    "Esta EDP junto a sus condiciones de borde en cada caso constituye un problema matemático lineal, que tiene solución analítica, pero la cual es difícil de obtener. Por lo tanto requerimos de métodos numéricos para encontrar la solución del perfil de concentration en dos dimensiones. "
   ]
  },
  {
   "cell_type": "markdown",
   "metadata": {},
   "source": [
    "### 2. Método SOR\n",
    "\n",
    "Para la resolución del problema uitlizaremos el método SOR\n",
    "\n",
    "$$a_{ij} c_{i+1,j}^\\textrm{correcto} + b_{ij} c_{i-1,j}^\\textrm{correcto} + c_{ij} c_{i,j+1}^\\textrm{correcto} + d_{ij} c_{i,j-1}^\\textrm{correcto} + e_{ij} c_{i,j}^\\textrm{correcto} - f_{ij} = 0$$\n",
    "\n",
    "$$a_{ij} c_{i+1,j}^\\textrm{estimado} + b_{ij} c_{i-1,j}^\\textrm{estimado} + c_{ij} c_{i,j+1}^\\textrm{estimado} + d_{ij} c_{i,j-1}^\\textrm{estimado} + e_{ij} c_{i,j}^\\textrm{estimado} - f_{ij} = \\xi_{i,j}$$\n",
    "\n",
    "$$c_{i,j}^\\textrm{correcto} \\approx c_{i,j}^\\textrm{estimado} -\\frac{\\xi_{i,j}}{e_{i,j}}$$\n",
    "\n",
    "$$c_{i,j}^\\textrm{nuevo} \\approx c_{i,j}^\\textrm{antiguo} -\\omega\\frac{\\xi_{i,j}}{e_{i,j}}$$\n",
    "\n",
    "Coeficientes SOR para nodos interiores del problema de difusión 2-D en un dominio cuadrado. \n",
    "$$a_{ij} = b_{ij} =  \\frac{D_{AB}}{\\Delta x^2} $$\n",
    "\n",
    "$$c_{ij} = d_{ij} =  \\frac{D_{AB}}{\\Delta y^2} $$\n",
    "\n",
    "$$e_{ij} = -\\frac{2D_{AB}}{\\Delta x^2} -\\frac{2D_{AB}}{\\Delta y^2} -S$$\n",
    "\n",
    "$$ f_{ij} = 0 $$"
   ]
  },
  {
   "cell_type": "markdown",
   "metadata": {},
   "source": [
    "#### Importar módulos"
   ]
  },
  {
   "cell_type": "code",
   "execution_count": 1,
   "metadata": {},
   "outputs": [],
   "source": [
    "# Mejorar calidad de gráficos en Jupyter Notebook\n",
    "%matplotlib notebook\n",
    "\n",
    "# Visualización de datos y gráficos\n",
    "import matplotlib.pyplot as plt \n",
    "\n",
    "# Computación numérica\n",
    "import numpy as np"
   ]
  },
  {
   "cell_type": "markdown",
   "metadata": {},
   "source": [
    "#### Inicializar los parámetros constantes del problema"
   ]
  },
  {
   "cell_type": "code",
   "execution_count": 2,
   "metadata": {},
   "outputs": [],
   "source": [
    "# Parámetros constantes conocidos\n",
    "\n",
    "# Ancho del receptáculo / m\n",
    "Lr = 2.5\n",
    "\n",
    "# Alto del receptáculo / m\n",
    "Lz = 2.0\n",
    "\n",
    "# Difusividad de especie A / m^2 s^-1\n",
    "D = 2.1e-9\n",
    "\n",
    "# constante de consumo homogénea / s^-1\n",
    "k = 2e-9\n",
    "\n",
    "# Concentración inicial de aroma (A) / mol m^-3\n",
    "c0 = 0.0"
   ]
  },
  {
   "cell_type": "markdown",
   "metadata": {},
   "source": [
    "#### 2.1: Generar grilla con los puntos en especifico en la coordenada $x$ e $y$\n",
    "\n",
    "Definimos dos vector en el espacio que define nuestra malla bidimensional en las coordenadas $x$ e $y$."
   ]
  },
  {
   "cell_type": "code",
   "execution_count": 3,
   "metadata": {
    "scrolled": true
   },
   "outputs": [
    {
     "name": "stdout",
     "output_type": "stream",
     "text": [
      "dr = 0.025 m, dz = 0.020 m\n",
      "[0.    0.025 0.05  0.075 0.1   0.125 0.15  0.175 0.2   0.225 0.25  0.275\n",
      " 0.3   0.325 0.35  0.375 0.4   0.425 0.45  0.475 0.5   0.525 0.55  0.575\n",
      " 0.6   0.625 0.65  0.675 0.7   0.725 0.75  0.775 0.8   0.825 0.85  0.875\n",
      " 0.9   0.925 0.95  0.975 1.    1.025 1.05  1.075 1.1   1.125 1.15  1.175\n",
      " 1.2   1.225 1.25  1.275 1.3   1.325 1.35  1.375 1.4   1.425 1.45  1.475\n",
      " 1.5   1.525 1.55  1.575 1.6   1.625 1.65  1.675 1.7   1.725 1.75  1.775\n",
      " 1.8   1.825 1.85  1.875 1.9   1.925 1.95  1.975 2.    2.025 2.05  2.075\n",
      " 2.1   2.125 2.15  2.175 2.2   2.225 2.25  2.275 2.3   2.325 2.35  2.375\n",
      " 2.4   2.425 2.45  2.475 2.5  ]\n"
     ]
    }
   ],
   "source": [
    "# Grilla estructurada en coordenadas x e y para representar receptáculo cuadrado\n",
    "\n",
    "# Definimos el número de puntos deseados en nuestra grilla\n",
    "Nr = 101\n",
    "Nz = Nr\n",
    "\n",
    "# Definimos vectores con las coordenadas de cada punto en el espacio donde se evaluará la solución.\n",
    "r_grilla = np.linspace(0.0, Lr, Nr)\n",
    "z_grilla = np.linspace(0.0, Lz, Nz)\n",
    "\n",
    "# Calculamos el paso en espacio en cada coordenada.\n",
    "dr = Lr/(Nr-1)\n",
    "dz = Lz/(Nz-1)\n",
    "\n",
    "print(\"dr = %.3f m, dz = %.3f m\" % (dr, dz))\n",
    "print(r_grilla)"
   ]
  },
  {
   "cell_type": "markdown",
   "metadata": {},
   "source": [
    "#### 2.3: Definición de los coeficientes SOR para nodos interiores en el dominio\n",
    "\n",
    "Notamos que en todos los escenarios, la ecuación diferencial parcial y por ende su discretización."
   ]
  },
  {
   "cell_type": "code",
   "execution_count": 4,
   "metadata": {},
   "outputs": [
    {
     "data": {
      "text/plain": [
       "101"
      ]
     },
     "execution_count": 4,
     "metadata": {},
     "output_type": "execute_result"
    }
   ],
   "source": [
    "vz=[1e-11]*21\n",
    "vz=vz+[-0.25*(1e-11)]*80\n",
    "len(r_grilla)"
   ]
  },
  {
   "cell_type": "code",
   "execution_count": 5,
   "metadata": {},
   "outputs": [],
   "source": [
    "# Definir valores de coeficientes constantes. Estos son los mismos para los tres casos\n",
    "a=['']*len(r_grilla)\n",
    "b=['']*len(r_grilla)\n",
    "c=['']*len(r_grilla)\n",
    "d=['']*len(r_grilla)\n",
    "e=['']*len(r_grilla)\n",
    "# Coeficiente correspondiente a nodo vecino derecho\n",
    "for i in range(len(r_grilla)):\n",
    "    a[i] = -D/(2*(i+1)*dr**2)+D/dr**2\n",
    "\n",
    "# Coeficiente correspondiente a nodo vecino izquierdo\n",
    "for i in range(len(r_grilla)):\n",
    "    b[i] = D/(2*(i+1)*dr**2)+D/(dr**2)\n",
    "\n",
    "# Coeficiente correspondiente a nodo vecino superior\n",
    "for i in range(len(r_grilla)):\n",
    "    c[i] = vz[i]/dz+D/dz**2\n",
    "\n",
    "# Coeficiente correspondiente a nodo vecino inferior\n",
    "d = D/dz**2\n",
    "\n",
    "# Coeficiente correspondiente a nodo central\n",
    "for i in range(len(r_grilla)):\n",
    "    e[i] = -vz[i]/dz-2*D/dr**2-2*D/dz**2-k\n",
    "\n",
    "# Coeficiente correspondiente a termino constante\n",
    "f = 0"
   ]
  },
  {
   "cell_type": "markdown",
   "metadata": {},
   "source": [
    "#### 2.4: Método de sobre-relajación sucesiva  para la iteración funcional"
   ]
  },
  {
   "cell_type": "code",
   "execution_count": 6,
   "metadata": {},
   "outputs": [],
   "source": [
    "# Definir valores constantes para parámetros SOR\n",
    "\n",
    "# Parámetro de sobre-relajación\n",
    "omega = 1.45\n",
    "\n",
    "# Tolerancia, criterio de convergencia\n",
    "tol = 0.00000000001"
   ]
  },
  {
   "cell_type": "markdown",
   "metadata": {},
   "source": [
    "#### Algortitmo de iteración SOR"
   ]
  },
  {
   "cell_type": "code",
   "execution_count": null,
   "metadata": {},
   "outputs": [
    {
     "name": "stdout",
     "output_type": "stream",
     "text": [
      "Residuo total: 1.960e-01 \n",
      "Residuo total: 1.090e-08 \n",
      "Residuo total: 5.880e-09 \n",
      "Residuo total: 3.966e-09 \n",
      "Residuo total: 2.955e-09 \n",
      "Residuo total: 2.329e-09 \n",
      "Residuo total: 1.903e-09 \n",
      "Residuo total: 1.594e-09 \n",
      "Residuo total: 1.360e-09 \n",
      "Residuo total: 1.177e-09 \n",
      "Residuo total: 1.029e-09 \n",
      "Residuo total: 9.084e-10 \n",
      "Residuo total: 8.077e-10 \n",
      "Residuo total: 7.226e-10 \n",
      "Residuo total: 6.498e-10 \n",
      "Residuo total: 5.869e-10 \n",
      "Residuo total: 5.322e-10 \n",
      "Residuo total: 4.841e-10 \n",
      "Residuo total: 4.416e-10 \n",
      "Residuo total: 4.038e-10 \n",
      "Residuo total: 3.701e-10 \n",
      "Residuo total: 3.398e-10 \n",
      "Residuo total: 3.124e-10 \n",
      "Residuo total: 2.877e-10 \n",
      "Residuo total: 2.653e-10 \n",
      "Residuo total: 2.448e-10 \n",
      "Residuo total: 2.262e-10 \n",
      "Residuo total: 2.091e-10 \n",
      "Residuo total: 1.935e-10 \n",
      "Residuo total: 1.791e-10 \n",
      "Residuo total: 1.659e-10 \n",
      "Residuo total: 1.537e-10 \n",
      "Residuo total: 1.425e-10 \n",
      "Residuo total: 1.321e-10 \n",
      "Residuo total: 1.226e-10 \n",
      "Residuo total: 1.137e-10 \n",
      "Residuo total: 1.056e-10 \n",
      "Residuo total: 9.799e-11 \n",
      "Residuo total: 9.098e-11 \n"
     ]
    }
   ],
   "source": [
    "# Algoritmo de iteración por SOR\n",
    "\n",
    "# Inicializamos arreglo para almacenar los valores solución de la concentration de aroma\n",
    "cA1 = np.ones((Nr,Nz))*c0\n",
    "\n",
    "# Aplicamos las condiciones de borde \n",
    "# borde inferior (x, y=0) esto es para todo i en j = 0\n",
    "cA1[0:22,0] = 8\n",
    "\n",
    "# borde derecho (x=L, y) esto es en i = Nx-1 para 1 <= j <= Ny-1\n",
    "cA1[-1,:] = ( 4*cA1[-2,:] - cA1[-3,:] ) / 3\n",
    "\n",
    "# borde superior (x, y=L) esto es para 0 <= i <= Nx-2 en j = Ny-1\n",
    "cA1[:,-1] = ( 4*cA1[:,-2] - cA1[:,-3] ) / 3\n",
    "\n",
    "# borde izquierdo (x=0, y) esto es en i = 0 para 1 <= j <=  Ny-2\n",
    "#cA1[0,1:-1] = ( 4*cA1[1,1:-1] - cA1[2,1:-1] ) / 3\n",
    "\n",
    "# Inicializamos el residuo total al comienzo de iteración con un valor arbitrario\n",
    "residuo_total = 1000\n",
    "\n",
    "# Inicializamos contador para numero de iteraciones  \n",
    "cnt_it = 0\n",
    "\n",
    "while residuo_total > tol:\n",
    "    \n",
    "    # Residuo viejo\n",
    "    residuo_tmp = residuo_total\n",
    "    \n",
    "    # Reiniciar residuo total para sumar residuos en cada nodo\n",
    "    resid_total = 0\n",
    "    \n",
    "    # Contador para checker boarding\n",
    "    cnt_nodos = 0\n",
    "    \n",
    "    # Recorrer puntos internos del dominio\n",
    "    for i in range(0,Nr):\n",
    "        for j in range(0,Nz):\n",
    "            for l in range(len(r_grilla)):\n",
    "                a[l] = -D/(2*(l+1)*dr**2)+D/dr**2\n",
    "            for l in range(len(r_grilla)):\n",
    "                b[l] = D/(2*(l+1)*dr**2)+D/(dr**2)\n",
    "            for l in range(len(r_grilla)):\n",
    "                c[l] = vz[l]/dz+D/dz**2\n",
    "            d = D/dz**2\n",
    "            for l in range(len(r_grilla)):\n",
    "                e[l] = -vz[l]/dz-2*D/dr**2-2*D/dz**2-k\n",
    "            f = 0\n",
    "            \n",
    "            # Checker-boarding para garantizar convergencia, resolviendo nodos pares e impares alternadamente\n",
    "            if ((i+j)%2) == cnt_it%2:\n",
    "                \n",
    "                # Calcular residuo para nodo (i,j)\n",
    "                if (i > 0) & (i < Nr-1) & (j > 0) & (j < Nz-1):\n",
    "                    residuo_nodo = a[i]*cA1[i+1,j] + b[i]*cA1[i-1,j] + c[i]*cA1[i,j+1] + d*cA1[i,j-1] + e[i]*cA1[i,j] - f\n",
    "\n",
    "                    # Actualizar el valor de concentration de aroma\n",
    "                    cA1[i,j] += - omega*residuo_nodo / e[i]\n",
    "\n",
    "                    # Actualizar la suma de residuos absolutos\n",
    "                    residuo_total += abs(residuo_nodo)\n",
    "                \n",
    "                # Aumentar contador de nodos\n",
    "                cnt_nodos += 1\n",
    "    \n",
    "    # Actualizar condiciones de borde arreglo solución de concetraciones \n",
    "    # luego de un checker-boarding completo (nodos pares e impares)\n",
    "    if cnt_it%2 == 0:\n",
    "        # borde inferior (x, y=0) esto es para todo i en j = 0\n",
    "        cA1[0:21,0] = 8\n",
    "\n",
    "        # borde derecho (x=L, y) esto es en i = Nx-1 para 1 <= j <= Ny-1\n",
    "        cA1[-1,:] = ( 4*cA1[-2,:] - cA1[-3,:] ) / 3\n",
    "\n",
    "        # borde superior (x, y=L) esto es para 0 <= i <= Nx-2 en j = Ny-1\n",
    "        cA1[:,-1] = ( 4*cA1[:,-2] - cA1[:,-3] ) / 3\n",
    "\n",
    "    \n",
    "    # Calcular residuo medio\n",
    "    residuo_total = residuo_total/cnt_nodos\n",
    "        \n",
    "    # Imprimir residuo cada 100 iteraciones\n",
    "    if cnt_it%100 == 0:\n",
    "        print(\"Residuo total: %.3e \"% residuo_total)\n",
    "        \n",
    "    # Aumentar contador de iteraciones\n",
    "    cnt_it = cnt_it + 1\n"
   ]
  },
  {
   "cell_type": "code",
   "execution_count": null,
   "metadata": {},
   "outputs": [],
   "source": [
    "# Visualizamos la solución para la concentración de aromas en 2-D\n",
    "\n",
    "fig = plt.subplots(figsize=[5,5])\n",
    "plt.imshow(np.flipud(np.transpose(cA1)), origin=\"upper\", extent =[0, Lr,0,Lz], cmap = \"plasma\")\n",
    "plt.colorbar(label=r\"$c_A(r,z)$ / mol m$^{-3}$\")\n",
    "plt.xlabel(r'$r$ / m')\n",
    "plt.ylabel(r'$z$ / m')\n",
    "\n",
    "plt.show()"
   ]
  },
  {
   "cell_type": "markdown",
   "metadata": {},
   "source": [
    "#### Bibliografía:\n",
    "\n",
    "1. [Successive over-relaxation method, Primer in Computational Mathematics, Earth Science and Engineering Department, Imperial College London](https://primer-computational-mathematics.github.io/book/c_mathematics/numerical_methods/6_Solving_PDEs_SOR.html)"
   ]
  }
 ],
 "metadata": {
  "kernelspec": {
   "display_name": "Python 3 (ipykernel)",
   "language": "python",
   "name": "python3"
  },
  "language_info": {
   "codemirror_mode": {
    "name": "ipython",
    "version": 3
   },
   "file_extension": ".py",
   "mimetype": "text/x-python",
   "name": "python",
   "nbconvert_exporter": "python",
   "pygments_lexer": "ipython3",
   "version": "3.9.12"
  },
  "vscode": {
   "interpreter": {
    "hash": "7e4e90e1ba0229fec7be5a5fe4bc47c548d6022f8a584c2d293e5393945202e8"
   }
  }
 },
 "nbformat": 4,
 "nbformat_minor": 2
}
